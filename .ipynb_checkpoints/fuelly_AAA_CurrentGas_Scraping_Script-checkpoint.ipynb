{
 "cells": [
  {
   "cell_type": "markdown",
   "metadata": {
    "slideshow": {
     "slide_type": "slide"
    }
   },
   "source": [
    "# Scraping AAA to Pull Current Gas Prices"
   ]
  },
  {
   "cell_type": "code",
   "execution_count": 1,
   "metadata": {},
   "outputs": [],
   "source": [
    "#import all modules for parsing.\n",
    "from splinter import Browser\n",
    "import requests\n",
    "from bs4 import BeautifulSoup as bs\n",
    "from pprint import pprint\n",
    "import pandas as pd\n",
    "url = 'https://gasprices.aaa.com/'\n",
    "# url = input(str(\"Enter Website Url\"))"
   ]
  },
  {
   "cell_type": "code",
   "execution_count": 2,
   "metadata": {},
   "outputs": [],
   "source": [
    "list_name =[]\n",
    "regular_avg =[]\n",
    "mid_avg = []\n",
    "premium_avg = []\n",
    "diesel_avg = []\n",
    "e85_avg = []"
   ]
  },
  {
   "cell_type": "code",
   "execution_count": 3,
   "metadata": {},
   "outputs": [],
   "source": [
    "#come back here to reload page to ensure recent results. Leave Lists Up top to keep from overwriting... Can always drop duplicates.\n",
    "executable_path = {'executable_path': 'chromedriver.exe'}\n",
    "browser = Browser('chrome', **executable_path, headless=False)\n",
    "#'http://www.fuelly.com/activity?filter=4'\n",
    "browser.visit(url)\n",
    "html=browser.html"
   ]
  },
  {
   "cell_type": "code",
   "execution_count": 4,
   "metadata": {},
   "outputs": [],
   "source": [
    "soup = bs(html, 'html.parser')\n",
    "data = soup.find_all('table', class_=\"table-mob\")\n",
    "browser.quit()"
   ]
  },
  {
   "cell_type": "code",
   "execution_count": 5,
   "metadata": {},
   "outputs": [],
   "source": [
    "#loop that runs through file table of gas prices that returns current gas index.\n",
    "for data in data:\n",
    "    list_name.append(data.tr.find_next().find_next().find_next().find_next().find_next().find_next().find_next().find_next().find_next().get_text())\n",
    "    regular_avg.append(data.tr.find_next().find_next().find_next().find_next().find_next().find_next().find_next().find_next().find_next().find_next().get_text())\n",
    "    mid_avg.append(data.tr.find_next().find_next().find_next().find_next().find_next().find_next().find_next().find_next().find_next().find_next().find_next().get_text())\n",
    "    premium_avg.append(data.tr.find_next().find_next().find_next().find_next().find_next().find_next().find_next().find_next().find_next().find_next().find_next().find_next().get_text())\n",
    "    diesel_avg.append(data.tr.find_next().find_next().find_next().find_next().find_next().find_next().find_next().find_next().find_next().find_next().find_next().find_next().find_next().get_text())\n",
    "    e85_avg.append(data.tr.find_next().find_next().find_next().find_next().find_next().find_next().find_next().find_next().find_next().find_next().find_next().find_next().find_next().find_next().get_text())"
   ]
  },
  {
   "cell_type": "code",
   "execution_count": 6,
   "metadata": {},
   "outputs": [],
   "source": [
    "new_df = pd.DataFrame({\n",
    "    \"Gas Price\": list_name,\n",
    "    \"Regular\": regular_avg,\n",
    "    \"Mid-Grade\": mid_avg,\n",
    "    \"Premium\": premium_avg,\n",
    "    \"Diesel\": diesel_avg,\n",
    "    \"E85\": e85_avg\n",
    "})"
   ]
  },
  {
   "cell_type": "markdown",
   "metadata": {},
   "source": [
    "## This will print the Current Average of the Day from AAA.COM"
   ]
  },
  {
   "cell_type": "code",
   "execution_count": 7,
   "metadata": {},
   "outputs": [
    {
     "data": {
      "text/html": [
       "<div>\n",
       "<style scoped>\n",
       "    .dataframe tbody tr th:only-of-type {\n",
       "        vertical-align: middle;\n",
       "    }\n",
       "\n",
       "    .dataframe tbody tr th {\n",
       "        vertical-align: top;\n",
       "    }\n",
       "\n",
       "    .dataframe thead th {\n",
       "        text-align: right;\n",
       "    }\n",
       "</style>\n",
       "<table border=\"1\" class=\"dataframe\">\n",
       "  <thead>\n",
       "    <tr style=\"text-align: right;\">\n",
       "      <th></th>\n",
       "      <th>Gas Price</th>\n",
       "      <th>Regular</th>\n",
       "      <th>Mid-Grade</th>\n",
       "      <th>Premium</th>\n",
       "      <th>Diesel</th>\n",
       "      <th>E85</th>\n",
       "    </tr>\n",
       "  </thead>\n",
       "  <tbody>\n",
       "    <tr>\n",
       "      <td>0</td>\n",
       "      <td>Current Avg.</td>\n",
       "      <td>$2.612</td>\n",
       "      <td>$2.952</td>\n",
       "      <td>$3.213</td>\n",
       "      <td>$3.007</td>\n",
       "      <td>$2.313</td>\n",
       "    </tr>\n",
       "  </tbody>\n",
       "</table>\n",
       "</div>"
      ],
      "text/plain": [
       "      Gas Price Regular Mid-Grade Premium  Diesel     E85\n",
       "0  Current Avg.  $2.612    $2.952  $3.213  $3.007  $2.313"
      ]
     },
     "execution_count": 7,
     "metadata": {},
     "output_type": "execute_result"
    }
   ],
   "source": [
    "#Current Average Gas Scrape. (11/2/2019 @ 8:16pm)\n",
    "#based on AAA.Com Website.\n",
    "new_df"
   ]
  },
  {
   "cell_type": "code",
   "execution_count": 8,
   "metadata": {},
   "outputs": [],
   "source": [
    "#this is a nice sample loop to print each row in seperate lists.\n",
    "table = soup.find('table', attrs={'class':'table-mob'})\n",
    "table_rows = table.find_all('tr')\n",
    "gas_list_aaa = []\n",
    "for tr in table_rows:\n",
    "    td = tr.find_all('td')\n",
    "    row = [tr.text for tr in td]\n",
    "    gas_list_aaa.append(row)\n",
    "gas_aaa_df = pd.DataFrame(gas_list_aaa, columns=[\"\", \"Regular\", \"Mid-Grade\", \"Premium\",\"Diesel\", \"E85\"]).drop([0])"
   ]
  },
  {
   "cell_type": "markdown",
   "metadata": {},
   "source": [
    "## This will Print the Entire Table from AAA.COM for later Analysis."
   ]
  },
  {
   "cell_type": "code",
   "execution_count": 9,
   "metadata": {},
   "outputs": [
    {
     "data": {
      "text/html": [
       "<div>\n",
       "<style scoped>\n",
       "    .dataframe tbody tr th:only-of-type {\n",
       "        vertical-align: middle;\n",
       "    }\n",
       "\n",
       "    .dataframe tbody tr th {\n",
       "        vertical-align: top;\n",
       "    }\n",
       "\n",
       "    .dataframe thead th {\n",
       "        text-align: right;\n",
       "    }\n",
       "</style>\n",
       "<table border=\"1\" class=\"dataframe\">\n",
       "  <thead>\n",
       "    <tr style=\"text-align: right;\">\n",
       "      <th></th>\n",
       "      <th></th>\n",
       "      <th>Regular</th>\n",
       "      <th>Mid-Grade</th>\n",
       "      <th>Premium</th>\n",
       "      <th>Diesel</th>\n",
       "      <th>E85</th>\n",
       "    </tr>\n",
       "  </thead>\n",
       "  <tbody>\n",
       "    <tr>\n",
       "      <td>1</td>\n",
       "      <td>Current Avg.</td>\n",
       "      <td>$2.612</td>\n",
       "      <td>$2.952</td>\n",
       "      <td>$3.213</td>\n",
       "      <td>$3.007</td>\n",
       "      <td>$2.313</td>\n",
       "    </tr>\n",
       "    <tr>\n",
       "      <td>2</td>\n",
       "      <td>Yesterday Avg.</td>\n",
       "      <td>$2.608</td>\n",
       "      <td>$2.953</td>\n",
       "      <td>$3.213</td>\n",
       "      <td>$3.009</td>\n",
       "      <td>$2.307</td>\n",
       "    </tr>\n",
       "    <tr>\n",
       "      <td>3</td>\n",
       "      <td>Week Ago Avg.</td>\n",
       "      <td>$2.602</td>\n",
       "      <td>$2.946</td>\n",
       "      <td>$3.207</td>\n",
       "      <td>$3.001</td>\n",
       "      <td>$2.297</td>\n",
       "    </tr>\n",
       "    <tr>\n",
       "      <td>4</td>\n",
       "      <td>Month Ago Avg.</td>\n",
       "      <td>$2.658</td>\n",
       "      <td>$3.002</td>\n",
       "      <td>$3.259</td>\n",
       "      <td>$3.007</td>\n",
       "      <td>$2.340</td>\n",
       "    </tr>\n",
       "    <tr>\n",
       "      <td>5</td>\n",
       "      <td>Year Ago Avg.</td>\n",
       "      <td>$2.755</td>\n",
       "      <td>$3.073</td>\n",
       "      <td>$3.326</td>\n",
       "      <td>$3.270</td>\n",
       "      <td>$2.359</td>\n",
       "    </tr>\n",
       "  </tbody>\n",
       "</table>\n",
       "</div>"
      ],
      "text/plain": [
       "                  Regular Mid-Grade Premium  Diesel     E85\n",
       "1    Current Avg.  $2.612    $2.952  $3.213  $3.007  $2.313\n",
       "2  Yesterday Avg.  $2.608    $2.953  $3.213  $3.009  $2.307\n",
       "3   Week Ago Avg.  $2.602    $2.946  $3.207  $3.001  $2.297\n",
       "4  Month Ago Avg.  $2.658    $3.002  $3.259  $3.007  $2.340\n",
       "5   Year Ago Avg.  $2.755    $3.073  $3.326  $3.270  $2.359"
      ]
     },
     "execution_count": 9,
     "metadata": {},
     "output_type": "execute_result"
    }
   ],
   "source": [
    "gas_aaa_df"
   ]
  },
  {
   "cell_type": "code",
   "execution_count": 10,
   "metadata": {},
   "outputs": [],
   "source": [
    "pdata = []\n",
    "qdata = []\n",
    "rdata = []\n",
    "sdata =[]\n",
    "tdata = []\n",
    "for price in gas_aaa_df.loc[:, 'Regular']:\n",
    "    pdata.append(float(price[1:]))\n",
    "for price in gas_aaa_df.loc[:, 'Mid-Grade']:\n",
    "    qdata.append(float(price[1:]))\n",
    "for price in gas_aaa_df.loc[:, 'Premium']:\n",
    "    rdata.append(float(price[1:]))\n",
    "for price in gas_aaa_df.loc[:, 'Diesel']:\n",
    "    sdata.append(float(price[1:]))\n",
    "for price in gas_aaa_df.loc[:, 'E85']:\n",
    "    tdata.append(float(price[1:]))"
   ]
  },
  {
   "cell_type": "code",
   "execution_count": 11,
   "metadata": {},
   "outputs": [],
   "source": [
    "gas_aaa_df['Regular'] = pdata\n",
    "gas_aaa_df['Mid-Grade'] = qdata\n",
    "gas_aaa_df['Premium'] = rdata\n",
    "gas_aaa_df['Diesel'] = sdata\n",
    "gas_aaa_df['E85']= tdata"
   ]
  },
  {
   "cell_type": "code",
   "execution_count": 12,
   "metadata": {},
   "outputs": [
    {
     "data": {
      "text/html": [
       "<div>\n",
       "<style scoped>\n",
       "    .dataframe tbody tr th:only-of-type {\n",
       "        vertical-align: middle;\n",
       "    }\n",
       "\n",
       "    .dataframe tbody tr th {\n",
       "        vertical-align: top;\n",
       "    }\n",
       "\n",
       "    .dataframe thead th {\n",
       "        text-align: right;\n",
       "    }\n",
       "</style>\n",
       "<table border=\"1\" class=\"dataframe\">\n",
       "  <thead>\n",
       "    <tr style=\"text-align: right;\">\n",
       "      <th></th>\n",
       "      <th></th>\n",
       "      <th>Regular</th>\n",
       "      <th>Mid-Grade</th>\n",
       "      <th>Premium</th>\n",
       "      <th>Diesel</th>\n",
       "      <th>E85</th>\n",
       "    </tr>\n",
       "  </thead>\n",
       "  <tbody>\n",
       "    <tr>\n",
       "      <td>1</td>\n",
       "      <td>Current Avg.</td>\n",
       "      <td>2.612</td>\n",
       "      <td>2.952</td>\n",
       "      <td>3.213</td>\n",
       "      <td>3.007</td>\n",
       "      <td>2.313</td>\n",
       "    </tr>\n",
       "    <tr>\n",
       "      <td>2</td>\n",
       "      <td>Yesterday Avg.</td>\n",
       "      <td>2.608</td>\n",
       "      <td>2.953</td>\n",
       "      <td>3.213</td>\n",
       "      <td>3.009</td>\n",
       "      <td>2.307</td>\n",
       "    </tr>\n",
       "    <tr>\n",
       "      <td>3</td>\n",
       "      <td>Week Ago Avg.</td>\n",
       "      <td>2.602</td>\n",
       "      <td>2.946</td>\n",
       "      <td>3.207</td>\n",
       "      <td>3.001</td>\n",
       "      <td>2.297</td>\n",
       "    </tr>\n",
       "    <tr>\n",
       "      <td>4</td>\n",
       "      <td>Month Ago Avg.</td>\n",
       "      <td>2.658</td>\n",
       "      <td>3.002</td>\n",
       "      <td>3.259</td>\n",
       "      <td>3.007</td>\n",
       "      <td>2.340</td>\n",
       "    </tr>\n",
       "    <tr>\n",
       "      <td>5</td>\n",
       "      <td>Year Ago Avg.</td>\n",
       "      <td>2.755</td>\n",
       "      <td>3.073</td>\n",
       "      <td>3.326</td>\n",
       "      <td>3.270</td>\n",
       "      <td>2.359</td>\n",
       "    </tr>\n",
       "  </tbody>\n",
       "</table>\n",
       "</div>"
      ],
      "text/plain": [
       "                   Regular  Mid-Grade  Premium  Diesel    E85\n",
       "1    Current Avg.    2.612      2.952    3.213   3.007  2.313\n",
       "2  Yesterday Avg.    2.608      2.953    3.213   3.009  2.307\n",
       "3   Week Ago Avg.    2.602      2.946    3.207   3.001  2.297\n",
       "4  Month Ago Avg.    2.658      3.002    3.259   3.007  2.340\n",
       "5   Year Ago Avg.    2.755      3.073    3.326   3.270  2.359"
      ]
     },
     "execution_count": 12,
     "metadata": {},
     "output_type": "execute_result"
    }
   ],
   "source": [
    "gas_aaa_df"
   ]
  },
  {
   "cell_type": "code",
   "execution_count": 13,
   "metadata": {},
   "outputs": [],
   "source": [
    "gas_aaa_df.to_csv('aaa_gasprices.csv')"
   ]
  }
 ],
 "metadata": {
  "kernelspec": {
   "display_name": "Python 3",
   "language": "python",
   "name": "python3"
  },
  "language_info": {
   "codemirror_mode": {
    "name": "ipython",
    "version": 3
   },
   "file_extension": ".py",
   "mimetype": "text/x-python",
   "name": "python",
   "nbconvert_exporter": "python",
   "pygments_lexer": "ipython3",
   "version": "3.7.4"
  },
  "varInspector": {
   "cols": {
    "lenName": 16,
    "lenType": 16,
    "lenVar": 40
   },
   "kernels_config": {
    "python": {
     "delete_cmd_postfix": "",
     "delete_cmd_prefix": "del ",
     "library": "var_list.py",
     "varRefreshCmd": "print(var_dic_list())"
    },
    "r": {
     "delete_cmd_postfix": ") ",
     "delete_cmd_prefix": "rm(",
     "library": "var_list.r",
     "varRefreshCmd": "cat(var_dic_list()) "
    }
   },
   "types_to_exclude": [
    "module",
    "function",
    "builtin_function_or_method",
    "instance",
    "_Feature"
   ],
   "window_display": false
  }
 },
 "nbformat": 4,
 "nbformat_minor": 2
}
