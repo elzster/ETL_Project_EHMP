{
 "cells": [
  {
   "cell_type": "markdown",
   "metadata": {},
   "source": [
    "## Once These Modules are Imported, No Need to Refresh. It will overwrite the Lists that You've compiled for the session."
   ]
  },
  {
   "cell_type": "code",
   "execution_count": 1,
   "metadata": {},
   "outputs": [],
   "source": [
    "#import all modules for parsing.\n",
    "from splinter import Browser\n",
    "import requests\n",
    "from bs4 import BeautifulSoup as bs\n",
    "from pprint import pprint\n",
    "import pandas as pd\n",
    "# url = input(str(\"Enter Website Url\"))\n",
    "url = 'http://www.fuelly.com/activity?filter=4'\n",
    "user_list =[]\n",
    "vehicle_list =[]\n",
    "mpg_list= []"
   ]
  },
  {
   "cell_type": "code",
   "execution_count": 2,
   "metadata": {},
   "outputs": [],
   "source": [
    "#Function to define browser for mac. Working.\n",
    "def init_browser():\n",
    "    # @NOTE: Replace the path with your actual path to the chromedriver\n",
    "    executable_path = {'executable_path': '/usr/local/bin/chromedriver'} #Used for Mac\n",
    "    return Browser(\"chrome\", **executable_path, headless=False)"
   ]
  },
  {
   "cell_type": "code",
   "execution_count": 54,
   "metadata": {},
   "outputs": [],
   "source": [
    "#function to concatenate list items\n",
    "def concatenate_list_data(list):\n",
    "    result= ''\n",
    "    for element in list:\n",
    "        result += str(element+\" \")\n",
    "    return result"
   ]
  },
  {
   "cell_type": "markdown",
   "metadata": {},
   "source": [
    "### To Refresh Scrape Script Run the Following Cell. This will keep using the search query for URL Above."
   ]
  },
  {
   "cell_type": "code",
   "execution_count": 3,
   "metadata": {},
   "outputs": [],
   "source": [
    "#come back here to reload page to ensure recent results. Leave Lists Up top to keep from overwriting... Can always drop duplicates.\n",
    "# executable_path = {'executable_path': 'chromedriver.exe'}\n",
    "# browser = Browser('chrome', **executable_path, headless=False)\n",
    "#'http://www.fuelly.com/activity?filter=4'\n",
    "browser = init_browser()\n",
    "browser.visit(url)\n",
    "html=browser.html\n",
    "soup = bs(html, 'html.parser')\n",
    "data = soup.find_all('li', class_=\"activity-list-item fy-icon-fuel-ups\")\n",
    "for data in data:\n",
    "    user_list.append(data.a.get_text())\n",
    "    vehicle_list.append(data.a.find_next().get_text())\n",
    "    mpg_list.append(data.a.find_next().find_next().get_text())\n",
    "browser.quit()"
   ]
  },
  {
   "cell_type": "code",
   "execution_count": 93,
   "metadata": {
    "tags": [
     "outputPrepend",
     "outputPrepend"
    ]
   },
   "outputs": [],
   "source": [
    "test_list = vehicle_list\n",
    "year = []\n",
    "make = []\n",
    "model = []\n",
    "model2 =[]\n",
    "#function to further split the vehicle list for clean up and analysis.\n",
    "for x in vehicle_list:\n",
    "    # print(x.split()[0])\n",
    "    year.append(x.split()[0])\n",
    "    make.append(x.split()[1])\n",
    "    model.append(x.split()[2:])"
   ]
  },
  {
   "cell_type": "code",
   "execution_count": 79,
   "metadata": {},
   "outputs": [
    {
     "output_type": "execute_result",
     "data": {
      "text/plain": "'Silverado 1500'"
     },
     "metadata": {},
     "execution_count": 79
    }
   ],
   "source": [
    "concatenate_list_data(model[1])[:-1]"
   ]
  },
  {
   "cell_type": "code",
   "execution_count": 94,
   "metadata": {},
   "outputs": [],
   "source": [
    "#to concatenate the strings that are split from the vehicle columns.\n",
    "for x in model:\n",
    "        model2.append(concatenate_list_data(x))"
   ]
  },
  {
   "cell_type": "code",
   "execution_count": 97,
   "metadata": {},
   "outputs": [
    {
     "output_type": "execute_result",
     "data": {
      "text/plain": "50"
     },
     "metadata": {},
     "execution_count": 97
    }
   ],
   "source": [
    "len(model2)"
   ]
  },
  {
   "cell_type": "code",
   "execution_count": 105,
   "metadata": {},
   "outputs": [],
   "source": [
    "new_df = pd.DataFrame({\n",
    "    \"User\": user_list,\n",
    "    \"Year\": year,\n",
    "    \"Make\": make,\n",
    "    \"Model\": model2,\n",
    "    \"MPG\": mpg_list,\n",
    "    \"Year\": year,\n",
    "    \"Make\": make,\n",
    "    # \"Model\": model\n",
    "})\n",
    "new_df.drop_duplicates().to_csv('fuelly-11_3_2019-20_18.csv')"
   ]
  },
  {
   "cell_type": "code",
   "execution_count": 99,
   "metadata": {},
   "outputs": [
    {
     "output_type": "error",
     "ename": "AttributeError",
     "evalue": "'list' object has no attribute 'unsplit'",
     "traceback": [
      "\u001b[0;31m---------------------------------------------------------------------------\u001b[0m",
      "\u001b[0;31mAttributeError\u001b[0m                            Traceback (most recent call last)",
      "\u001b[0;32m<ipython-input-99-adb94df9d0eb>\u001b[0m in \u001b[0;36m<module>\u001b[0;34m\u001b[0m\n\u001b[1;32m      1\u001b[0m \u001b[0;31m# new_df.to_csv('fuelly-11_2_2019-18_50.csv')\u001b[0m\u001b[0;34m\u001b[0m\u001b[0;34m\u001b[0m\u001b[0;34m\u001b[0m\u001b[0m\n\u001b[1;32m      2\u001b[0m \u001b[0;31m# # new_df['Vehicle'].str.split()[1][1]\u001b[0m\u001b[0;34m\u001b[0m\u001b[0;34m\u001b[0m\u001b[0;34m\u001b[0m\u001b[0m\n\u001b[0;32m----> 3\u001b[0;31m \u001b[0mmodel\u001b[0m\u001b[0;34m.\u001b[0m\u001b[0munsplit\u001b[0m\u001b[0;34m(\u001b[0m\u001b[0;34m)\u001b[0m\u001b[0;34m\u001b[0m\u001b[0;34m\u001b[0m\u001b[0m\n\u001b[0m",
      "\u001b[0;31mAttributeError\u001b[0m: 'list' object has no attribute 'unsplit'"
     ]
    }
   ],
   "source": [
    "# new_df.to_csv('fuelly-11_2_2019-18_50.csv')"
   ]
  },
  {
   "cell_type": "code",
   "execution_count": 106,
   "metadata": {},
   "outputs": [
    {
     "output_type": "execute_result",
     "data": {
      "text/plain": "              User  Year           Make                  Model             MPG\n0      classicsuby  2004           Saab                   9-5         22.4 MPG\n1   aguilarassasin  2019      Chevrolet        Silverado 1500         18.7 MPG\n2           mystix  2017          Honda                  CR-V         24.3 MPG\n3        namichael  2017           Jeep              Renegade         27.1 MPG\n4            sioux  2012         Toyota                Tacoma         13.2 MPG\n5      MelchiorRSA  2011        Triumph        Tiger 1050 ABS         39.7 MPG\n6       leontangwc  2012         Toyota              Vellfire         23.0 MPG\n7      markbra2010  2008         Yamaha               YBR 125         89.2 MPG\n8           mgwdew  2012           Seat                 Ibiza         48.4 MPG\n9        r6emperor  2018     Volkswagen         Golf Alltrack         31.5 MPG\n10          iamfob  2012          Honda               Insight         43.4 MPG\n11         bromarc  2007           Jeep        Grand Cherokee         23.1 MPG\n12         dowdydl  2020         Toyota                Tundra         16.2 MPG\n13         69franx  2018           Ford                 F-150         18.3 MPG\n14          OwenMc  2015           Seat                  Leon         39.4 MPG\n15         thomasa  1982  Mercedes-Benz                 300TD         23.4 MPG\n16        dunthank  2013        Hyundai               Elantra         31.8 MPG\n17       SystemJim  2014          Mazda                  CX-5         26.8 MPG\n18      buggerthat  1993  Mercedes-Benz                  190E         22.0 MPG\n19       Bhickey21  2017           Jeep        Grand Cherokee         21.3 MPG\n20           lscrx  2020          Lexus                 RX350         21.6 MPG\n21        minicoop  2016           Audi                    Q5         16.7 MPG\n22       1093brown  2017        Hyundai                Tucson         35.2 MPG\n23         stilela  2017       Cadillac                   XT5         27.3 MPG\n24             abc  2013     Volkswagen      Jetta Sportwagen         42.3 MPG\n25        bfaucett  2015      Chevrolet     Silverado 2500 HD         13.5 MPG\n26           Rindt  2002           Audi                    A4         15.6 MPG\n27           Keeef  1974         Austin                  Maxi         15.0 MPG\n28      AtesFamily  2005           Ford                 F-150         16.0 MPG\n29      EchoJarvis  2012         Nissan            Pathfinder         15.0 MPG\n30       ARPatriot  2016            Kia                Forte5         32.5 MPG\n31          echo03  2016          Honda                   Fit         39.3 MPG\n32      martidiehl  2013          Honda                  CR-V         25.5 MPG\n33        imsecond  2008          Honda                   Fit         35.7 MPG\n34        zeimet50  1999          Dodge          Ram 1500 Van         14.1 MPG\n35         campisi  2013         Nissan                Xterra         19.2 MPG\n36          belrix  2017          Honda  CRF1000L Africa Twin         49.4 MPG\n37       Coryf1989  2003     Volkswagen                 Jetta         32.6 MPG\n38        csjonsin  2017     Volkswagen         Golf Alltrack         28.4 MPG\n39      FLSouthPaw  2012            Kia                  Soul         24.4 MPG\n40         TimboSV  2013         Daelim        S3 Advance 250         85.5 MPG\n41           reegz  2012     Volkswagen                   GTI         25.9 MPG\n42    Gingersnap86  2012            Ram                  1500         11.7 MPG\n43    josefallas27  2017         Yamaha                 MT-07         56.5 MPG\n44        Hillelec  2018            Ram                  2500          9.4 MPG\n45        vtec2200  2008         Nissan            Pathfinder         15.7 MPG\n46     brodyfrompa  2013         Suzuki                TU250X         59.8 MPG\n47      macbot2000  2005         Nissan                 Titan         10.9 MPG\n48         yawnson  2015  Mercedes-Benz         Sprinter 3500   43 minutes ago\n49           Jim40  2017     Mitsubishi                Triton         23.9 MPG",
      "text/html": "<div>\n<style scoped>\n    .dataframe tbody tr th:only-of-type {\n        vertical-align: middle;\n    }\n\n    .dataframe tbody tr th {\n        vertical-align: top;\n    }\n\n    .dataframe thead th {\n        text-align: right;\n    }\n</style>\n<table border=\"1\" class=\"dataframe\">\n  <thead>\n    <tr style=\"text-align: right;\">\n      <th></th>\n      <th>User</th>\n      <th>Year</th>\n      <th>Make</th>\n      <th>Model</th>\n      <th>MPG</th>\n    </tr>\n  </thead>\n  <tbody>\n    <tr>\n      <th>0</th>\n      <td>classicsuby</td>\n      <td>2004</td>\n      <td>Saab</td>\n      <td>9-5</td>\n      <td>22.4 MPG</td>\n    </tr>\n    <tr>\n      <th>1</th>\n      <td>aguilarassasin</td>\n      <td>2019</td>\n      <td>Chevrolet</td>\n      <td>Silverado 1500</td>\n      <td>18.7 MPG</td>\n    </tr>\n    <tr>\n      <th>2</th>\n      <td>mystix</td>\n      <td>2017</td>\n      <td>Honda</td>\n      <td>CR-V</td>\n      <td>24.3 MPG</td>\n    </tr>\n    <tr>\n      <th>3</th>\n      <td>namichael</td>\n      <td>2017</td>\n      <td>Jeep</td>\n      <td>Renegade</td>\n      <td>27.1 MPG</td>\n    </tr>\n    <tr>\n      <th>4</th>\n      <td>sioux</td>\n      <td>2012</td>\n      <td>Toyota</td>\n      <td>Tacoma</td>\n      <td>13.2 MPG</td>\n    </tr>\n    <tr>\n      <th>5</th>\n      <td>MelchiorRSA</td>\n      <td>2011</td>\n      <td>Triumph</td>\n      <td>Tiger 1050 ABS</td>\n      <td>39.7 MPG</td>\n    </tr>\n    <tr>\n      <th>6</th>\n      <td>leontangwc</td>\n      <td>2012</td>\n      <td>Toyota</td>\n      <td>Vellfire</td>\n      <td>23.0 MPG</td>\n    </tr>\n    <tr>\n      <th>7</th>\n      <td>markbra2010</td>\n      <td>2008</td>\n      <td>Yamaha</td>\n      <td>YBR 125</td>\n      <td>89.2 MPG</td>\n    </tr>\n    <tr>\n      <th>8</th>\n      <td>mgwdew</td>\n      <td>2012</td>\n      <td>Seat</td>\n      <td>Ibiza</td>\n      <td>48.4 MPG</td>\n    </tr>\n    <tr>\n      <th>9</th>\n      <td>r6emperor</td>\n      <td>2018</td>\n      <td>Volkswagen</td>\n      <td>Golf Alltrack</td>\n      <td>31.5 MPG</td>\n    </tr>\n    <tr>\n      <th>10</th>\n      <td>iamfob</td>\n      <td>2012</td>\n      <td>Honda</td>\n      <td>Insight</td>\n      <td>43.4 MPG</td>\n    </tr>\n    <tr>\n      <th>11</th>\n      <td>bromarc</td>\n      <td>2007</td>\n      <td>Jeep</td>\n      <td>Grand Cherokee</td>\n      <td>23.1 MPG</td>\n    </tr>\n    <tr>\n      <th>12</th>\n      <td>dowdydl</td>\n      <td>2020</td>\n      <td>Toyota</td>\n      <td>Tundra</td>\n      <td>16.2 MPG</td>\n    </tr>\n    <tr>\n      <th>13</th>\n      <td>69franx</td>\n      <td>2018</td>\n      <td>Ford</td>\n      <td>F-150</td>\n      <td>18.3 MPG</td>\n    </tr>\n    <tr>\n      <th>14</th>\n      <td>OwenMc</td>\n      <td>2015</td>\n      <td>Seat</td>\n      <td>Leon</td>\n      <td>39.4 MPG</td>\n    </tr>\n    <tr>\n      <th>15</th>\n      <td>thomasa</td>\n      <td>1982</td>\n      <td>Mercedes-Benz</td>\n      <td>300TD</td>\n      <td>23.4 MPG</td>\n    </tr>\n    <tr>\n      <th>16</th>\n      <td>dunthank</td>\n      <td>2013</td>\n      <td>Hyundai</td>\n      <td>Elantra</td>\n      <td>31.8 MPG</td>\n    </tr>\n    <tr>\n      <th>17</th>\n      <td>SystemJim</td>\n      <td>2014</td>\n      <td>Mazda</td>\n      <td>CX-5</td>\n      <td>26.8 MPG</td>\n    </tr>\n    <tr>\n      <th>18</th>\n      <td>buggerthat</td>\n      <td>1993</td>\n      <td>Mercedes-Benz</td>\n      <td>190E</td>\n      <td>22.0 MPG</td>\n    </tr>\n    <tr>\n      <th>19</th>\n      <td>Bhickey21</td>\n      <td>2017</td>\n      <td>Jeep</td>\n      <td>Grand Cherokee</td>\n      <td>21.3 MPG</td>\n    </tr>\n    <tr>\n      <th>20</th>\n      <td>lscrx</td>\n      <td>2020</td>\n      <td>Lexus</td>\n      <td>RX350</td>\n      <td>21.6 MPG</td>\n    </tr>\n    <tr>\n      <th>21</th>\n      <td>minicoop</td>\n      <td>2016</td>\n      <td>Audi</td>\n      <td>Q5</td>\n      <td>16.7 MPG</td>\n    </tr>\n    <tr>\n      <th>22</th>\n      <td>1093brown</td>\n      <td>2017</td>\n      <td>Hyundai</td>\n      <td>Tucson</td>\n      <td>35.2 MPG</td>\n    </tr>\n    <tr>\n      <th>23</th>\n      <td>stilela</td>\n      <td>2017</td>\n      <td>Cadillac</td>\n      <td>XT5</td>\n      <td>27.3 MPG</td>\n    </tr>\n    <tr>\n      <th>24</th>\n      <td>abc</td>\n      <td>2013</td>\n      <td>Volkswagen</td>\n      <td>Jetta Sportwagen</td>\n      <td>42.3 MPG</td>\n    </tr>\n    <tr>\n      <th>25</th>\n      <td>bfaucett</td>\n      <td>2015</td>\n      <td>Chevrolet</td>\n      <td>Silverado 2500 HD</td>\n      <td>13.5 MPG</td>\n    </tr>\n    <tr>\n      <th>26</th>\n      <td>Rindt</td>\n      <td>2002</td>\n      <td>Audi</td>\n      <td>A4</td>\n      <td>15.6 MPG</td>\n    </tr>\n    <tr>\n      <th>27</th>\n      <td>Keeef</td>\n      <td>1974</td>\n      <td>Austin</td>\n      <td>Maxi</td>\n      <td>15.0 MPG</td>\n    </tr>\n    <tr>\n      <th>28</th>\n      <td>AtesFamily</td>\n      <td>2005</td>\n      <td>Ford</td>\n      <td>F-150</td>\n      <td>16.0 MPG</td>\n    </tr>\n    <tr>\n      <th>29</th>\n      <td>EchoJarvis</td>\n      <td>2012</td>\n      <td>Nissan</td>\n      <td>Pathfinder</td>\n      <td>15.0 MPG</td>\n    </tr>\n    <tr>\n      <th>30</th>\n      <td>ARPatriot</td>\n      <td>2016</td>\n      <td>Kia</td>\n      <td>Forte5</td>\n      <td>32.5 MPG</td>\n    </tr>\n    <tr>\n      <th>31</th>\n      <td>echo03</td>\n      <td>2016</td>\n      <td>Honda</td>\n      <td>Fit</td>\n      <td>39.3 MPG</td>\n    </tr>\n    <tr>\n      <th>32</th>\n      <td>martidiehl</td>\n      <td>2013</td>\n      <td>Honda</td>\n      <td>CR-V</td>\n      <td>25.5 MPG</td>\n    </tr>\n    <tr>\n      <th>33</th>\n      <td>imsecond</td>\n      <td>2008</td>\n      <td>Honda</td>\n      <td>Fit</td>\n      <td>35.7 MPG</td>\n    </tr>\n    <tr>\n      <th>34</th>\n      <td>zeimet50</td>\n      <td>1999</td>\n      <td>Dodge</td>\n      <td>Ram 1500 Van</td>\n      <td>14.1 MPG</td>\n    </tr>\n    <tr>\n      <th>35</th>\n      <td>campisi</td>\n      <td>2013</td>\n      <td>Nissan</td>\n      <td>Xterra</td>\n      <td>19.2 MPG</td>\n    </tr>\n    <tr>\n      <th>36</th>\n      <td>belrix</td>\n      <td>2017</td>\n      <td>Honda</td>\n      <td>CRF1000L Africa Twin</td>\n      <td>49.4 MPG</td>\n    </tr>\n    <tr>\n      <th>37</th>\n      <td>Coryf1989</td>\n      <td>2003</td>\n      <td>Volkswagen</td>\n      <td>Jetta</td>\n      <td>32.6 MPG</td>\n    </tr>\n    <tr>\n      <th>38</th>\n      <td>csjonsin</td>\n      <td>2017</td>\n      <td>Volkswagen</td>\n      <td>Golf Alltrack</td>\n      <td>28.4 MPG</td>\n    </tr>\n    <tr>\n      <th>39</th>\n      <td>FLSouthPaw</td>\n      <td>2012</td>\n      <td>Kia</td>\n      <td>Soul</td>\n      <td>24.4 MPG</td>\n    </tr>\n    <tr>\n      <th>40</th>\n      <td>TimboSV</td>\n      <td>2013</td>\n      <td>Daelim</td>\n      <td>S3 Advance 250</td>\n      <td>85.5 MPG</td>\n    </tr>\n    <tr>\n      <th>41</th>\n      <td>reegz</td>\n      <td>2012</td>\n      <td>Volkswagen</td>\n      <td>GTI</td>\n      <td>25.9 MPG</td>\n    </tr>\n    <tr>\n      <th>42</th>\n      <td>Gingersnap86</td>\n      <td>2012</td>\n      <td>Ram</td>\n      <td>1500</td>\n      <td>11.7 MPG</td>\n    </tr>\n    <tr>\n      <th>43</th>\n      <td>josefallas27</td>\n      <td>2017</td>\n      <td>Yamaha</td>\n      <td>MT-07</td>\n      <td>56.5 MPG</td>\n    </tr>\n    <tr>\n      <th>44</th>\n      <td>Hillelec</td>\n      <td>2018</td>\n      <td>Ram</td>\n      <td>2500</td>\n      <td>9.4 MPG</td>\n    </tr>\n    <tr>\n      <th>45</th>\n      <td>vtec2200</td>\n      <td>2008</td>\n      <td>Nissan</td>\n      <td>Pathfinder</td>\n      <td>15.7 MPG</td>\n    </tr>\n    <tr>\n      <th>46</th>\n      <td>brodyfrompa</td>\n      <td>2013</td>\n      <td>Suzuki</td>\n      <td>TU250X</td>\n      <td>59.8 MPG</td>\n    </tr>\n    <tr>\n      <th>47</th>\n      <td>macbot2000</td>\n      <td>2005</td>\n      <td>Nissan</td>\n      <td>Titan</td>\n      <td>10.9 MPG</td>\n    </tr>\n    <tr>\n      <th>48</th>\n      <td>yawnson</td>\n      <td>2015</td>\n      <td>Mercedes-Benz</td>\n      <td>Sprinter 3500</td>\n      <td>43 minutes ago</td>\n    </tr>\n    <tr>\n      <th>49</th>\n      <td>Jim40</td>\n      <td>2017</td>\n      <td>Mitsubishi</td>\n      <td>Triton</td>\n      <td>23.9 MPG</td>\n    </tr>\n  </tbody>\n</table>\n</div>"
     },
     "metadata": {},
     "execution_count": 106
    }
   ],
   "source": [
    "# new_df2.drop(columns={'Unnamed: 0','Unnamed: 6'})\n",
    "new_df"
   ]
  },
  {
   "cell_type": "markdown",
   "metadata": {},
   "source": [
    "### These Cells are Specific to CSV Writing, if you Run These Change the File Names to Keep from OverWriting."
   ]
  },
  {
   "cell_type": "code",
   "execution_count": 5,
   "metadata": {},
   "outputs": [],
   "source": [
    "#exports the dataframe to a csv file.\n",
    "#can always export multiples and then reload to chop duplicates???\n",
    "# new_df.to_csv('fuelly-11_3_2019-19:19.csv')"
   ]
  },
  {
   "cell_type": "code",
   "execution_count": 9,
   "metadata": {
    "scrolled": false
   },
   "outputs": [
    {
     "data": {
      "text/html": [
       "<div>\n",
       "<style scoped>\n",
       "    .dataframe tbody tr th:only-of-type {\n",
       "        vertical-align: middle;\n",
       "    }\n",
       "\n",
       "    .dataframe tbody tr th {\n",
       "        vertical-align: top;\n",
       "    }\n",
       "\n",
       "    .dataframe thead th {\n",
       "        text-align: right;\n",
       "    }\n",
       "</style>\n",
       "<table border=\"1\" class=\"dataframe\">\n",
       "  <thead>\n",
       "    <tr style=\"text-align: right;\">\n",
       "      <th></th>\n",
       "      <th>User</th>\n",
       "      <th>Year</th>\n",
       "      <th>Make</th>\n",
       "      <th>Model</th>\n",
       "      <th>MPG</th>\n",
       "    </tr>\n",
       "  </thead>\n",
       "  <tbody>\n",
       "    <tr>\n",
       "      <td>0</td>\n",
       "      <td>14focus</td>\n",
       "      <td>2018</td>\n",
       "      <td>Ford</td>\n",
       "      <td>Focus</td>\n",
       "      <td>45.2</td>\n",
       "    </tr>\n",
       "    <tr>\n",
       "      <td>1</td>\n",
       "      <td>14focus</td>\n",
       "      <td>2018</td>\n",
       "      <td>Ford</td>\n",
       "      <td>Focus</td>\n",
       "      <td>41.8</td>\n",
       "    </tr>\n",
       "    <tr>\n",
       "      <td>2</td>\n",
       "      <td>16fordescape</td>\n",
       "      <td>2016</td>\n",
       "      <td>Ford</td>\n",
       "      <td>Escape</td>\n",
       "      <td>21.0</td>\n",
       "    </tr>\n",
       "    <tr>\n",
       "      <td>3</td>\n",
       "      <td>1720diesel</td>\n",
       "      <td>2016</td>\n",
       "      <td>Chevrolet</td>\n",
       "      <td>Silverado</td>\n",
       "      <td>14.8</td>\n",
       "    </tr>\n",
       "    <tr>\n",
       "      <td>4</td>\n",
       "      <td>17trailhawk</td>\n",
       "      <td>2017</td>\n",
       "      <td>Jeep</td>\n",
       "      <td>Cherokee</td>\n",
       "      <td>16.7</td>\n",
       "    </tr>\n",
       "    <tr>\n",
       "      <td>...</td>\n",
       "      <td>...</td>\n",
       "      <td>...</td>\n",
       "      <td>...</td>\n",
       "      <td>...</td>\n",
       "      <td>...</td>\n",
       "    </tr>\n",
       "    <tr>\n",
       "      <td>1074</td>\n",
       "      <td>yfz450</td>\n",
       "      <td>2018</td>\n",
       "      <td>Nissan</td>\n",
       "      <td>Titan</td>\n",
       "      <td>12.3</td>\n",
       "    </tr>\n",
       "    <tr>\n",
       "      <td>1075</td>\n",
       "      <td>ronbo2004</td>\n",
       "      <td>2004</td>\n",
       "      <td>Ford</td>\n",
       "      <td>F-150</td>\n",
       "      <td>11.7</td>\n",
       "    </tr>\n",
       "    <tr>\n",
       "      <td>1076</td>\n",
       "      <td>MrDJ246</td>\n",
       "      <td>2010</td>\n",
       "      <td>Ford</td>\n",
       "      <td>F-150</td>\n",
       "      <td>11.5</td>\n",
       "    </tr>\n",
       "    <tr>\n",
       "      <td>1077</td>\n",
       "      <td>sioux</td>\n",
       "      <td>2012</td>\n",
       "      <td>Toyota</td>\n",
       "      <td>Tacoma</td>\n",
       "      <td>11.3</td>\n",
       "    </tr>\n",
       "    <tr>\n",
       "      <td>1078</td>\n",
       "      <td>SilverBulletCSVT</td>\n",
       "      <td>2010</td>\n",
       "      <td>Yamaha</td>\n",
       "      <td>YBR125</td>\n",
       "      <td>102.0</td>\n",
       "    </tr>\n",
       "  </tbody>\n",
       "</table>\n",
       "<p>1079 rows × 5 columns</p>\n",
       "</div>"
      ],
      "text/plain": [
       "                  User  Year       Make      Model    MPG\n",
       "0              14focus  2018       Ford      Focus   45.2\n",
       "1              14focus  2018       Ford      Focus   41.8\n",
       "2         16fordescape  2016       Ford     Escape   21.0\n",
       "3           1720diesel  2016  Chevrolet  Silverado   14.8\n",
       "4          17trailhawk  2017       Jeep   Cherokee   16.7\n",
       "...                ...   ...        ...        ...    ...\n",
       "1074            yfz450  2018     Nissan      Titan   12.3\n",
       "1075         ronbo2004  2004       Ford      F-150   11.7\n",
       "1076           MrDJ246  2010       Ford      F-150   11.5\n",
       "1077             sioux  2012     Toyota     Tacoma   11.3\n",
       "1078  SilverBulletCSVT  2010     Yamaha     YBR125  102.0\n",
       "\n",
       "[1079 rows x 5 columns]"
      ]
     },
     "execution_count": 9,
     "metadata": {},
     "output_type": "execute_result"
    }
   ],
   "source": [
    "#@todo: clean data and reload into pandas\n",
    "new_df2 = pd.read_csv('data/fuelly_logs/fuelly_complete_11-02-2019.csv')\n",
    "new_df2"
   ]
  },
  {
   "cell_type": "code",
   "execution_count": 16,
   "metadata": {},
   "outputs": [
    {
     "data": {
      "text/plain": [
       "<pandas.core.groupby.generic.DataFrameGroupBy object at 0x000001DE8A628308>"
      ]
     },
     "execution_count": 16,
     "metadata": {},
     "output_type": "execute_result"
    }
   ],
   "source": [
    "new_df2.groupby('Make'"
   ]
  },
  {
   "cell_type": "code",
   "execution_count": 22,
   "metadata": {},
   "outputs": [
    {
     "ename": "ValueError",
     "evalue": "If using all scalar values, you must pass an index",
     "output_type": "error",
     "traceback": [
      "\u001b[1;31m---------------------------------------------------------------------------\u001b[0m",
      "\u001b[1;31mValueError\u001b[0m                                Traceback (most recent call last)",
      "\u001b[1;32m<ipython-input-22-0f92ec28236e>\u001b[0m in \u001b[0;36m<module>\u001b[1;34m\u001b[0m\n\u001b[0;32m     25\u001b[0m     \u001b[1;34m'Total Makes'\u001b[0m\u001b[1;33m:\u001b[0m \u001b[0mtotal_makes\u001b[0m\u001b[1;33m,\u001b[0m\u001b[1;33m\u001b[0m\u001b[1;33m\u001b[0m\u001b[0m\n\u001b[0;32m     26\u001b[0m     \u001b[1;34m\"Total Users\"\u001b[0m\u001b[1;33m:\u001b[0m \u001b[0muser_counts\u001b[0m\u001b[1;33m,\u001b[0m\u001b[1;33m\u001b[0m\u001b[1;33m\u001b[0m\u001b[0m\n\u001b[1;32m---> 27\u001b[1;33m     \"Average MPG\": average_mpg })\n\u001b[0m",
      "\u001b[1;32m~\\Anaconda3\\lib\\site-packages\\pandas\\core\\frame.py\u001b[0m in \u001b[0;36m__init__\u001b[1;34m(self, data, index, columns, dtype, copy)\u001b[0m\n\u001b[0;32m    409\u001b[0m             )\n\u001b[0;32m    410\u001b[0m         \u001b[1;32melif\u001b[0m \u001b[0misinstance\u001b[0m\u001b[1;33m(\u001b[0m\u001b[0mdata\u001b[0m\u001b[1;33m,\u001b[0m \u001b[0mdict\u001b[0m\u001b[1;33m)\u001b[0m\u001b[1;33m:\u001b[0m\u001b[1;33m\u001b[0m\u001b[1;33m\u001b[0m\u001b[0m\n\u001b[1;32m--> 411\u001b[1;33m             \u001b[0mmgr\u001b[0m \u001b[1;33m=\u001b[0m \u001b[0minit_dict\u001b[0m\u001b[1;33m(\u001b[0m\u001b[0mdata\u001b[0m\u001b[1;33m,\u001b[0m \u001b[0mindex\u001b[0m\u001b[1;33m,\u001b[0m \u001b[0mcolumns\u001b[0m\u001b[1;33m,\u001b[0m \u001b[0mdtype\u001b[0m\u001b[1;33m=\u001b[0m\u001b[0mdtype\u001b[0m\u001b[1;33m)\u001b[0m\u001b[1;33m\u001b[0m\u001b[1;33m\u001b[0m\u001b[0m\n\u001b[0m\u001b[0;32m    412\u001b[0m         \u001b[1;32melif\u001b[0m \u001b[0misinstance\u001b[0m\u001b[1;33m(\u001b[0m\u001b[0mdata\u001b[0m\u001b[1;33m,\u001b[0m \u001b[0mma\u001b[0m\u001b[1;33m.\u001b[0m\u001b[0mMaskedArray\u001b[0m\u001b[1;33m)\u001b[0m\u001b[1;33m:\u001b[0m\u001b[1;33m\u001b[0m\u001b[1;33m\u001b[0m\u001b[0m\n\u001b[0;32m    413\u001b[0m             \u001b[1;32mimport\u001b[0m \u001b[0mnumpy\u001b[0m\u001b[1;33m.\u001b[0m\u001b[0mma\u001b[0m\u001b[1;33m.\u001b[0m\u001b[0mmrecords\u001b[0m \u001b[1;32mas\u001b[0m \u001b[0mmrecords\u001b[0m\u001b[1;33m\u001b[0m\u001b[1;33m\u001b[0m\u001b[0m\n",
      "\u001b[1;32m~\\Anaconda3\\lib\\site-packages\\pandas\\core\\internals\\construction.py\u001b[0m in \u001b[0;36minit_dict\u001b[1;34m(data, index, columns, dtype)\u001b[0m\n\u001b[0;32m    255\u001b[0m             \u001b[0marr\u001b[0m \u001b[1;32mif\u001b[0m \u001b[1;32mnot\u001b[0m \u001b[0mis_datetime64tz_dtype\u001b[0m\u001b[1;33m(\u001b[0m\u001b[0marr\u001b[0m\u001b[1;33m)\u001b[0m \u001b[1;32melse\u001b[0m \u001b[0marr\u001b[0m\u001b[1;33m.\u001b[0m\u001b[0mcopy\u001b[0m\u001b[1;33m(\u001b[0m\u001b[1;33m)\u001b[0m \u001b[1;32mfor\u001b[0m \u001b[0marr\u001b[0m \u001b[1;32min\u001b[0m \u001b[0marrays\u001b[0m\u001b[1;33m\u001b[0m\u001b[1;33m\u001b[0m\u001b[0m\n\u001b[0;32m    256\u001b[0m         ]\n\u001b[1;32m--> 257\u001b[1;33m     \u001b[1;32mreturn\u001b[0m \u001b[0marrays_to_mgr\u001b[0m\u001b[1;33m(\u001b[0m\u001b[0marrays\u001b[0m\u001b[1;33m,\u001b[0m \u001b[0mdata_names\u001b[0m\u001b[1;33m,\u001b[0m \u001b[0mindex\u001b[0m\u001b[1;33m,\u001b[0m \u001b[0mcolumns\u001b[0m\u001b[1;33m,\u001b[0m \u001b[0mdtype\u001b[0m\u001b[1;33m=\u001b[0m\u001b[0mdtype\u001b[0m\u001b[1;33m)\u001b[0m\u001b[1;33m\u001b[0m\u001b[1;33m\u001b[0m\u001b[0m\n\u001b[0m\u001b[0;32m    258\u001b[0m \u001b[1;33m\u001b[0m\u001b[0m\n\u001b[0;32m    259\u001b[0m \u001b[1;33m\u001b[0m\u001b[0m\n",
      "\u001b[1;32m~\\Anaconda3\\lib\\site-packages\\pandas\\core\\internals\\construction.py\u001b[0m in \u001b[0;36marrays_to_mgr\u001b[1;34m(arrays, arr_names, index, columns, dtype)\u001b[0m\n\u001b[0;32m     75\u001b[0m     \u001b[1;31m# figure out the index, if necessary\u001b[0m\u001b[1;33m\u001b[0m\u001b[1;33m\u001b[0m\u001b[1;33m\u001b[0m\u001b[0m\n\u001b[0;32m     76\u001b[0m     \u001b[1;32mif\u001b[0m \u001b[0mindex\u001b[0m \u001b[1;32mis\u001b[0m \u001b[1;32mNone\u001b[0m\u001b[1;33m:\u001b[0m\u001b[1;33m\u001b[0m\u001b[1;33m\u001b[0m\u001b[0m\n\u001b[1;32m---> 77\u001b[1;33m         \u001b[0mindex\u001b[0m \u001b[1;33m=\u001b[0m \u001b[0mextract_index\u001b[0m\u001b[1;33m(\u001b[0m\u001b[0marrays\u001b[0m\u001b[1;33m)\u001b[0m\u001b[1;33m\u001b[0m\u001b[1;33m\u001b[0m\u001b[0m\n\u001b[0m\u001b[0;32m     78\u001b[0m     \u001b[1;32melse\u001b[0m\u001b[1;33m:\u001b[0m\u001b[1;33m\u001b[0m\u001b[1;33m\u001b[0m\u001b[0m\n\u001b[0;32m     79\u001b[0m         \u001b[0mindex\u001b[0m \u001b[1;33m=\u001b[0m \u001b[0mensure_index\u001b[0m\u001b[1;33m(\u001b[0m\u001b[0mindex\u001b[0m\u001b[1;33m)\u001b[0m\u001b[1;33m\u001b[0m\u001b[1;33m\u001b[0m\u001b[0m\n",
      "\u001b[1;32m~\\Anaconda3\\lib\\site-packages\\pandas\\core\\internals\\construction.py\u001b[0m in \u001b[0;36mextract_index\u001b[1;34m(data)\u001b[0m\n\u001b[0;32m    356\u001b[0m \u001b[1;33m\u001b[0m\u001b[0m\n\u001b[0;32m    357\u001b[0m         \u001b[1;32mif\u001b[0m \u001b[1;32mnot\u001b[0m \u001b[0mindexes\u001b[0m \u001b[1;32mand\u001b[0m \u001b[1;32mnot\u001b[0m \u001b[0mraw_lengths\u001b[0m\u001b[1;33m:\u001b[0m\u001b[1;33m\u001b[0m\u001b[1;33m\u001b[0m\u001b[0m\n\u001b[1;32m--> 358\u001b[1;33m             \u001b[1;32mraise\u001b[0m \u001b[0mValueError\u001b[0m\u001b[1;33m(\u001b[0m\u001b[1;34m\"If using all scalar values, you must pass an index\"\u001b[0m\u001b[1;33m)\u001b[0m\u001b[1;33m\u001b[0m\u001b[1;33m\u001b[0m\u001b[0m\n\u001b[0m\u001b[0;32m    359\u001b[0m \u001b[1;33m\u001b[0m\u001b[0m\n\u001b[0;32m    360\u001b[0m         \u001b[1;32mif\u001b[0m \u001b[0mhave_series\u001b[0m\u001b[1;33m:\u001b[0m\u001b[1;33m\u001b[0m\u001b[1;33m\u001b[0m\u001b[0m\n",
      "\u001b[1;31mValueError\u001b[0m: If using all scalar values, you must pass an index"
     ]
    }
   ],
   "source": [
    "# master2.groupby('Category')\n",
    "#count the different categories in the category count.\n",
    "# model_counts = new_df2['Model'].nunique()\n",
    "# # make_count = new_df2['Make'].nunique()\n",
    "# user_counts = new_df2['Users'].nunique()\n",
    "# #get the average of the reviews for sample of 50\n",
    "# average_mpg = new_df2['MPG'].mean()\n",
    "\n",
    "# #group by category\n",
    "# grouped_df = new_df2.groupby('Make')\n",
    "\n",
    "# #counts the total of each category within the column\n",
    "# total_makes = new_df2['Make'].count()\n",
    "# user_counts = new_df2['User'].nunique()\n",
    "# average_mpg = new_df2['MPG'].mean()\n",
    "\n",
    "# #This will populate an array of all categories in Sample.\n",
    "# # east_category_unique = grouped[\"Category\"].unique()\n",
    "# # east_category_unique #121 unique categories\n",
    "# # east_total_categories = len(east_category_unique)\n",
    "\n",
    "# #Populate a dataframe with specfics on Manhattan,NY Grouped by Category.\n",
    "# #This will populate the top 10 Categories when using .head(10)Can Be Changed for scope.\n",
    "# category_stats_df= pd.DataFrame({\n",
    "#     'Total Makes': total_makes,\n",
    "#     \"Total Users\": user_counts,\n",
    "#     \"Average MPG\": average_mpg })"
   ]
  },
  {
   "cell_type": "code",
   "execution_count": null,
   "metadata": {},
   "outputs": [],
   "source": []
  },
  {
   "cell_type": "code",
   "execution_count": null,
   "metadata": {},
   "outputs": [],
   "source": []
  },
  {
   "cell_type": "code",
   "execution_count": null,
   "metadata": {},
   "outputs": [],
   "source": []
  },
  {
   "cell_type": "code",
   "execution_count": null,
   "metadata": {},
   "outputs": [],
   "source": []
  },
  {
   "cell_type": "code",
   "execution_count": null,
   "metadata": {},
   "outputs": [],
   "source": []
  },
  {
   "cell_type": "markdown",
   "metadata": {},
   "source": [
    "### Final DataFrame After Clean Up"
   ]
  },
  {
   "cell_type": "code",
   "execution_count": null,
   "metadata": {},
   "outputs": [],
   "source": [
    "#adjust to drop unecessary columns after clean up.\n",
    "# new_df2.drop(columns={'Unnamed: 0','Unnamed: 6'})\n",
    "# new_df3 = new_df2.drop(columns={'Unnamed: 0'}).drop_duplicates()\n",
    "# new_df3"
   ]
  },
  {
   "cell_type": "code",
   "execution_count": null,
   "metadata": {},
   "outputs": [],
   "source": []
  }
 ],
 "metadata": {
  "kernelspec": {
   "display_name": "Python 3",
   "language": "python",
   "name": "python3"
  },
  "language_info": {
   "codemirror_mode": {
    "name": "ipython",
    "version": 3
   },
   "file_extension": ".py",
   "mimetype": "text/x-python",
   "name": "python",
   "nbconvert_exporter": "python",
   "pygments_lexer": "ipython3",
   "version": "3.8.3-final"
  }
 },
 "nbformat": 4,
 "nbformat_minor": 2
}